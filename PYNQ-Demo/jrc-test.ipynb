{
 "cells": [
  {
   "cell_type": "code",
   "execution_count": 1,
   "metadata": {},
   "outputs": [],
   "source": [
    "import numpy as np\n",
    "import scipy.io as sio"
   ]
  },
  {
   "cell_type": "code",
   "execution_count": 83,
   "metadata": {},
   "outputs": [],
   "source": [
    "with open('rx_mat_py.npy', 'rb') as f:\n",
    "    rxmat_py = np.load(f)\n",
    "rxmat_golden = sio.loadmat(\"./rx_mat_golden.mat\")[\"rx_mat\"]"
   ]
  },
  {
   "cell_type": "code",
   "execution_count": 84,
   "metadata": {},
   "outputs": [
    {
     "name": "stdout",
     "output_type": "stream",
     "text": [
      "9.060521486568159e-07\n",
      "2.117270181718519e-06\n",
      "(0.0001098646+0.00011297813j) (0.00011113722923360511+0.00011431569086927923j)\n"
     ]
    }
   ],
   "source": [
    "error = abs(rxmat_py - rxmat_golden)\n",
    "total_error = 0\n",
    "size = np.shape(error.flatten())[0]\n",
    "for i in range(len(error)):\n",
    "    for j in range(len(error[0])):\n",
    "        total_error += pow(error[i][j], 2)\n",
    "# rmse = np.sqrt(total_error/(i*j))\n",
    "avg_error = np.sqrt(total_error/(size))\n",
    "print(avg_error)\n",
    "print(np.amax(error))\n",
    "print(np.amax(rxmat_py), np.amax(rxmat_golden))"
   ]
  },
  {
   "cell_type": "code",
   "execution_count": 85,
   "metadata": {},
   "outputs": [
    {
     "name": "stdout",
     "output_type": "stream",
     "text": [
      "(9.127819e-05+0.00014893492j)\n",
      "(9.2376634085522e-05+0.00015074496618373793j)\n"
     ]
    }
   ],
   "source": [
    "max_error = np.amax(error)\n",
    "for i in range(len(error)):\n",
    "    for j in range(len(error[0])):\n",
    "        if(max_error == error[i][j]):\n",
    "            print(rxmat_py[i][j])\n",
    "            print(rxmat_golden[i][j])"
   ]
  }
 ],
 "metadata": {
  "interpreter": {
   "hash": "4c6838dded572c06edc08242a2f593f98d15d9d36244bbc87dbf243c18cfd705"
  },
  "kernelspec": {
   "display_name": "Python 3.10.0 64-bit",
   "language": "python",
   "name": "python3"
  },
  "language_info": {
   "codemirror_mode": {
    "name": "ipython",
    "version": 3
   },
   "file_extension": ".py",
   "mimetype": "text/x-python",
   "name": "python",
   "nbconvert_exporter": "python",
   "pygments_lexer": "ipython3",
   "version": "3.10.0"
  },
  "orig_nbformat": 4
 },
 "nbformat": 4,
 "nbformat_minor": 2
}
