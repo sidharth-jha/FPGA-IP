{
 "cells": [
  {
   "cell_type": "code",
   "execution_count": 3,
   "metadata": {},
   "outputs": [],
   "source": [
    "import time\n",
    "import numpy as np\n",
    "import scipy.io as sio\n",
    "import matplotlib.pyplot as plt\n",
    "from matplotlib.colors import LogNorm\n",
    "import numpy.matlib as npm\n",
    "from scipy import signal\n",
    "import pandas as pd"
   ]
  },
  {
   "cell_type": "code",
   "execution_count": 4,
   "metadata": {},
   "outputs": [],
   "source": [
    "class radar1:\n",
    "    def __init__(self):\n",
    "        self.fc = 60*(10**9)\n",
    "        self.fs = 2.64*(10**9)\n",
    "        self.L = 6272\n",
    "        self.PRI = 2*(10**-6)\n",
    "        self.PTM_len = 100\n",
    "        self.c = 3*(10**8)\n",
    "        self.ts = 1/self.fs\n",
    "        self.noise = 0\n",
    "        self.Lambda = self.c/self.fc\n",
    "        self.windowsum = 0\n",
    "        self.ptx = 0\n",
    "        self.gt = 0\n",
    "        self.gr = 0\n",
    "        self.ptx_linear = 10**(self.ptx/10)*(10**-3)\n",
    "        self.gt_linear = 10**(self.gt/10)\n",
    "        self.gr_linear = 10**(self.gr/10)\n",
    "        self.radar_coeff = (np.sqrt(self.ptx_linear * self.gt_linear * self.gr_linear) * self.Lambda) / (4 * np.pi)"
   ]
  },
  {
   "cell_type": "code",
   "execution_count": 5,
   "metadata": {},
   "outputs": [],
   "source": [
    "class radar2:\n",
    "    def __init__(self):\n",
    "        self.fc = 60*(10**9)\n",
    "        self.fs = 1.76*(10**9)\n",
    "        self.L = 512\n",
    "        self.PRI = 2*(10**-6)\n",
    "        self.c = 3*(10**8)\n",
    "        self.ts = 1/self.fs\n",
    "        self.noise = 1\n",
    "        self.PTM_len = 100\n",
    "        self.Lambda = self.c/self.fc\n",
    "        self.dfd = 121\n",
    "        self.im_fdmax = 12*(10**3)\n",
    "        self.im_fdmin = -12*(10**3)\n",
    "        self.snr = 45 # Variable SNR\n",
    "        self.snr_linear = 10**(self.snr/10)"
   ]
  },
  {
   "cell_type": "code",
   "execution_count": 6,
   "metadata": {},
   "outputs": [],
   "source": [
    "class target:\n",
    "    def __init__(self, range_t, doppler_velocity, rcs_amp):\n",
    "        self.range = range_t\n",
    "        self.doppler_velocity = doppler_velocity\n",
    "        self.rcs_amp = rcs_amp\n",
    "        self.n_bodypart = 1"
   ]
  },
  {
   "cell_type": "code",
   "execution_count": 7,
   "metadata": {},
   "outputs": [],
   "source": [
    "class antenna:\n",
    "    def __init__(self, Lambda, Nelements, DOA):\n",
    "        self.d_m = Lambda * 0.5\n",
    "        self.Nelements = Nelements\n",
    "        self.spacing = np.arange(0, (self.Nelements-1) * self.d_m, self.d_m)\n",
    "        self.DOA = DOA # Angle for azimuth"
   ]
  },
  {
   "cell_type": "code",
   "execution_count": 26,
   "metadata": {},
   "outputs": [],
   "source": [
    "def get_received_signal(target, radar1, xmat1, fs, fc, antenna, n_frame, radar2):\n",
    "    print(\"Generating RX Signal + Noise\")\n",
    "    Lvec = radar1.ts * (np.arange(0,radar1.L))\n",
    "    Mvec = radar1.PRI * np.arange(0,radar1.PTM_len)\n",
    "    Larray = np.transpose(npm.repmat(Lvec, radar1.PTM_len, 1))\n",
    "    Marray = npm.repmat(Mvec, radar1.L, 1)\n",
    "    time_array = Larray + Marray\n",
    "\n",
    "    w = np.hamming(radar1.PTM_len)\n",
    "    wmat = npm.repmat(np.transpose(w), radar1.L, 1)\n",
    "    window_sum = np.sum(w)\n",
    "\n",
    "    # Channel Modelling\n",
    "    radar1.ptx = 30\n",
    "    radar1.gt = 0\n",
    "    radar1.gr = 0\n",
    "\n",
    "    rxmat = np.zeros((2*radar1.L-1, radar1.PTM_len))\n",
    "    range_to_delay_symbols = np.floor(((2*target.range)/radar1.c)/radar1.ts)\n",
    "\n",
    "    for nb in range(0,target.n_bodypart):\n",
    "        channel = np.zeros((radar1.L,1))\n",
    "        velvec = target.doppler_velocity\n",
    "        Doppler_ele = 2*np.pi*velvec/radar1.Lambda\n",
    "        Doppler_Delay = np.exp(1j*(Doppler_ele*time_array))\n",
    "\n",
    "        temp = np.multiply(np.multiply(wmat,xmat1),Doppler_Delay)\n",
    "        # print(temp)\n",
    "        channel[int(range_to_delay_symbols)] = 1\n",
    "\n",
    "        # amp = (target.rcs_amp[n_frame][nb])/(target.r[n_frame][nb]**2)\n",
    "        amp = (target.rcs_amp)/(target.range**2)\n",
    "        rxmat_temp = (amp**1000)*signal.convolve2d(channel,temp)\n",
    "        rxmat = rxmat + rxmat_temp\n",
    "    rxmat1 = rxmat/target.n_bodypart\n",
    "    rxmat2 = rxmat1 * radar1.radar_coeff\n",
    "    return rxmat2.real\n"
   ]
  },
  {
   "cell_type": "code",
   "execution_count": 9,
   "metadata": {},
   "outputs": [],
   "source": [
    "radar1_in = radar1()\n",
    "radar2_in = radar2()\n",
    "doppler_axis = np.arange(radar2_in.im_fdmin, radar2_in.im_fdmax + radar2_in.dfd, radar2_in.dfd)\n",
    "velocity_axis = doppler_axis * radar2_in.Lambda/2\n",
    "delay_axis = np.arange(-radar2_in.L + 1, radar2_in.L)\n",
    "range_axis = ((radar2_in.c * radar2_in.ts) / 2) * delay_axis"
   ]
  },
  {
   "cell_type": "code",
   "execution_count": 19,
   "metadata": {},
   "outputs": [],
   "source": [
    "range_t = 15\n",
    "velocity = 4\n",
    "rcs_amp = 1\n",
    "t1 = target(range_t, velocity, rcs_amp)\n",
    "\n",
    "Nu_elements = 10 # Variable Number of Antenna\n",
    "DOA_angle = 45 # Angle of Target\n",
    "antenna_param = antenna(radar2_in.Lambda, Nu_elements, DOA_angle)"
   ]
  },
  {
   "cell_type": "code",
   "execution_count": 27,
   "metadata": {},
   "outputs": [
    {
     "name": "stdout",
     "output_type": "stream",
     "text": [
      "Generating RX Signal + Noise\n",
      "0.0044444444444444444\n"
     ]
    }
   ],
   "source": [
    "# Load XMAT\n",
    "xmat1 = sio.loadmat(\"./data/jrc_tx.mat\")[\"xmat1\"]\n",
    "n_frame = 1\n",
    "\n",
    "rxmat2 = get_received_signal(t1, \n",
    "                                radar1_in, \n",
    "                                xmat1, \n",
    "                                radar1_in.fs, \n",
    "                                radar1_in.fc, \n",
    "                                antenna_param, \n",
    "                                n_frame, \n",
    "                                radar2_in)"
   ]
  },
  {
   "cell_type": "code",
   "execution_count": null,
   "metadata": {},
   "outputs": [],
   "source": []
  }
 ],
 "metadata": {
  "interpreter": {
   "hash": "52496a6e9ca2767663f1fc020bed617e49ff1c2d9d58b8a3d40ee8a5185b39a9"
  },
  "kernelspec": {
   "display_name": "Python 3.8.8 ('base')",
   "language": "python",
   "name": "python3"
  },
  "language_info": {
   "codemirror_mode": {
    "name": "ipython",
    "version": 3
   },
   "file_extension": ".py",
   "mimetype": "text/x-python",
   "name": "python",
   "nbconvert_exporter": "python",
   "pygments_lexer": "ipython3",
   "version": "3.8.8"
  },
  "orig_nbformat": 4
 },
 "nbformat": 4,
 "nbformat_minor": 2
}
